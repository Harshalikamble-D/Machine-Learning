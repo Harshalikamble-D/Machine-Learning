{
 "cells": [
  {
   "cell_type": "code",
   "execution_count": 3,
   "id": "fb476224",
   "metadata": {},
   "outputs": [],
   "source": [
    "import pandas as pd  #array\n",
    "import matplotlib.pyplot as plt  #ploting\n",
    "import numpy as np  #math operations."
   ]
  },
  {
   "cell_type": "code",
   "execution_count": 4,
   "id": "62639b7f",
   "metadata": {},
   "outputs": [
    {
     "data": {
      "text/html": [
       "<div>\n",
       "<style scoped>\n",
       "    .dataframe tbody tr th:only-of-type {\n",
       "        vertical-align: middle;\n",
       "    }\n",
       "\n",
       "    .dataframe tbody tr th {\n",
       "        vertical-align: top;\n",
       "    }\n",
       "\n",
       "    .dataframe thead th {\n",
       "        text-align: right;\n",
       "    }\n",
       "</style>\n",
       "<table border=\"1\" class=\"dataframe\">\n",
       "  <thead>\n",
       "    <tr style=\"text-align: right;\">\n",
       "      <th></th>\n",
       "      <th>X</th>\n",
       "      <th>Y</th>\n",
       "    </tr>\n",
       "  </thead>\n",
       "  <tbody>\n",
       "    <tr>\n",
       "      <th>0</th>\n",
       "      <td>1.0</td>\n",
       "      <td>50000</td>\n",
       "    </tr>\n",
       "    <tr>\n",
       "      <th>1</th>\n",
       "      <td>1.5</td>\n",
       "      <td>52000</td>\n",
       "    </tr>\n",
       "    <tr>\n",
       "      <th>2</th>\n",
       "      <td>2.0</td>\n",
       "      <td>60000</td>\n",
       "    </tr>\n",
       "    <tr>\n",
       "      <th>3</th>\n",
       "      <td>1.0</td>\n",
       "      <td>40000</td>\n",
       "    </tr>\n",
       "    <tr>\n",
       "      <th>4</th>\n",
       "      <td>3.0</td>\n",
       "      <td>70000</td>\n",
       "    </tr>\n",
       "  </tbody>\n",
       "</table>\n",
       "</div>"
      ],
      "text/plain": [
       "     X      Y\n",
       "0  1.0  50000\n",
       "1  1.5  52000\n",
       "2  2.0  60000\n",
       "3  1.0  40000\n",
       "4  3.0  70000"
      ]
     },
     "execution_count": 4,
     "metadata": {},
     "output_type": "execute_result"
    }
   ],
   "source": [
    "data = pd.read_csv(\"D:\\S_D.csv\")\n",
    "data.head() #used to get first five set"
   ]
  },
  {
   "cell_type": "code",
   "execution_count": 5,
   "id": "3ff5b8dd",
   "metadata": {},
   "outputs": [
    {
     "name": "stdout",
     "output_type": "stream",
     "text": [
      "        2\n",
      "-44.69 x + 1.11e+04 x + 3.823e+04\n"
     ]
    },
    {
     "data": {
      "image/png": "[encoded data removed]",
      "text/plain": [
       "<Figure size 432x288 with 1 Axes>"
      ]
     },
     "metadata": {
      "needs_background": "light"
     },
     "output_type": "display_data"
    }
   ],
   "source": [
    "x = data['X']\n",
    "y = data['Y']\n",
    "# plt.plot(x,y)\n",
    "plt.scatter(x,y)\n",
    "p = np.polyfit(x,y,2) # polynomial of order 1 ax+b\n",
    "f = np.poly1d(p)\n",
    "print(f)"
   ]
  },
  {
   "cell_type": "code",
   "execution_count": 6,
   "id": "7a479e1b",
   "metadata": {},
   "outputs": [],
   "source": [
    "#p = np.polyfit(x,y,2) \n",
    "#polynomial of order 1 ax+b\n",
    "#f = np.poly1d(p)\n",
    "#print(f)"
   ]
  },
  {
   "cell_type": "code",
   "execution_count": 7,
   "id": "5e360f10",
   "metadata": {},
   "outputs": [
    {
     "data": {
      "text/plain": [
       "[<matplotlib.lines.Line2D at 0x28af45ae910>]"
      ]
     },
     "execution_count": 7,
     "metadata": {},
     "output_type": "execute_result"
    },
    {
     "data": {
      "image/png": "[encoded data removed]",
      "text/plain": [
       "<Figure size 432x288 with 1 Axes>"
      ]
     },
     "metadata": {
      "needs_background": "light"
     },
     "output_type": "display_data"
    }
   ],
   "source": [
    "x_new = np.arange(min(x),max(x))\n",
    "y_model = f(x_new)\n",
    "plt.scatter(x,y)     #data is scattered .\n",
    "plt.plot(x_new,y_model,'red')  #regression is solid."
   ]
  },
  {
   "cell_type": "code",
   "execution_count": 10,
   "id": "24a86dab",
   "metadata": {},
   "outputs": [
    {
     "name": "stdout",
     "output_type": "stream",
     "text": [
      "A [[   29.        90.1      439.81  ]\n",
      " [   90.1      439.81    2871.721 ]\n",
      " [  439.81    2871.721  22159.8661]]\n",
      "b [[ 2089000.]\n",
      " [ 8197500.]\n",
      " [47696050.]]\n",
      "c [[38229.42944426]\n",
      " [11098.77400852]\n",
      " [  -44.6851869 ]]\n"
     ]
    }
   ],
   "source": [
    "x = data['X']\n",
    "y = data['Y']\n",
    "n = 2\n",
    "\n",
    "A = np.zeros((n+1, n+1))  # 3*3 matrix\n",
    "b = np.zeros((n+1, 1))    # 3 rows and 1 column\n",
    "\n",
    "for i in range(n+1):   # i is the number of rows\n",
    "    for j in range(n+1):\n",
    "        A[i, j] = sum(x**(i+j))\n",
    "\n",
    "        if j == 0:\n",
    "            b[i] = sum(x**(i) * y)\n",
    "\n",
    "print('A', A)\n",
    "print('b', b)\n",
    "\n",
    "c = np.linalg.inv(A).dot(b)  # Use dot() for matrix multiplication\n",
    "\n",
    "print('c', c)\n"
   ]
  }
 ],
 "metadata": {
  "kernelspec": {
   "display_name": "Python 3",
   "language": "python",
   "name": "python3"
  },
  "language_info": {
   "codemirror_mode": {
    "name": "ipython",
    "version": 3
   },
   "file_extension": ".py",
   "mimetype": "text/x-python",
   "name": "python",
   "nbconvert_exporter": "python",
   "pygments_lexer": "ipython3",
   "version": "3.8.8"
  }
 },
 "nbformat": 4,
 "nbformat_minor": 5
}
